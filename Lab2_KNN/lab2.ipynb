{
 "cells": [
  {
   "cell_type": "markdown",
   "id": "1f6246101bf04020",
   "metadata": {},
   "source": [
    "## **Lab 2: KNN**"
   ]
  },
  {
   "cell_type": "code",
   "id": "94fcd1842005074d",
   "metadata": {
    "ExecuteTime": {
     "end_time": "2025-09-17T12:56:15.877720Z",
     "start_time": "2025-09-17T12:56:15.873097Z"
    }
   },
   "source": "import pandas as pd",
   "outputs": [],
   "execution_count": 7
  },
  {
   "cell_type": "markdown",
   "id": "fe8d21f88b87894b",
   "metadata": {},
   "source": [
    "### 1. Dataset\n"
   ]
  },
  {
   "cell_type": "code",
   "id": "8f6875506fde96c7",
   "metadata": {
    "ExecuteTime": {
     "end_time": "2025-09-17T12:56:18.060472Z",
     "start_time": "2025-09-17T12:56:17.275309Z"
    }
   },
   "source": [
    "fashion_data = pd.read_csv(\"fashion-mnist_test.csv\")\n",
    "X_fashion = fashion_data.iloc[:, 1:].values\n",
    "y_fashion = fashion_data.iloc[:, 0].values\n"
   ],
   "outputs": [],
   "execution_count": 8
  },
  {
   "cell_type": "markdown",
   "id": "5a35c311463e922a",
   "metadata": {},
   "source": [
    "### 2. Model"
   ]
  },
  {
   "cell_type": "code",
   "execution_count": null,
   "id": "479d9410fa96ec66",
   "metadata": {},
   "outputs": [],
   "source": [
    "class KNN:\n",
    "    def __init__(self):"
   ]
  }
 ],
 "metadata": {
  "kernelspec": {
   "display_name": "Python 3",
   "language": "python",
   "name": "python3"
  },
  "language_info": {
   "codemirror_mode": {
    "name": "ipython",
    "version": 2
   },
   "file_extension": ".py",
   "mimetype": "text/x-python",
   "name": "python",
   "nbconvert_exporter": "python",
   "pygments_lexer": "ipython2",
   "version": "2.7.6"
  }
 },
 "nbformat": 4,
 "nbformat_minor": 5
}
